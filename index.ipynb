{
 "cells": [
  {
   "cell_type": "markdown",
   "metadata": {},
   "source": [
    "# OSGeo-live-Notebooks\n",
    "\n",
    "This directory host a set of **[IPython Notebook](http://ipython.org/notebook.html)** that are used in the **[OSGeo-live](http://live.osgeo.org/en/index.html)** project to demostrate the capabilities of *Open Source Geospatial Tools* installed on the *OSGeo-Live*.\n",
    "To start the *Jupyter Notebook* server on the *OSGeo-Live*, use the *GEOSPATIAL* menu *start Jupyter Notebook*. \n",
    "To access to the server select in the same menu *Jupyter Notebook* it will open the browser pointing to the *Jupyter Notebook* dashboard running on ```htpp://localhost:8883``` .\n",
    "\n",
    "From the OSGeo-Live you can upgrade to the latest version of this repository running the command ```git pull``` from the notebook directory : ```/home/user/jupyter/notebooks```.\n",
    "\n",
    "\n",
    "Table of contents:\n",
    "\n",
    "\n",
    "* [introduction to jupyter notebook](introduction-to-jupyter-notebook.ipynb)\n",
    "* [Software Projects](projects/)\n",
    "* [Educational material - GSoC-2015](GSoC-2015/Introduction.ipynb)"
   ]
  }
 ],
 "metadata": {
  "hide_input": false,
  "kernelspec": {
   "display_name": "Python",
   "language": "python",
   "name": "python2"
  },
  "language_info": {
   "codemirror_mode": {
    "name": "ipython",
    "version": 2.0
   },
   "file_extension": ".py",
   "mimetype": "text/x-python",
   "name": "python",
   "nbconvert_exporter": "python",
   "pygments_lexer": "ipython2",
   "version": "2.7.11+"
  },
  "latex_envs": {
   "bibliofile": "biblio.bib",
   "cite_by": "apalike",
   "current_citInitial": 1.0,
   "eqLabelWithNumbers": true,
   "eqNumInitial": 0.0
  }
 },
 "nbformat": 4,
 "nbformat_minor": 0
}