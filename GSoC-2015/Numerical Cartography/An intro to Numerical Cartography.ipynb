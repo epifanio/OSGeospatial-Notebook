{
 "cells": [
  {
   "cell_type": "markdown",
   "metadata": {},
   "source": [
    "<h1><center>[Notebooks](../) - [Numerical Cartography](../numerical cartography)</center></h1>"
   ]
  },
  {
   "cell_type": "markdown",
   "metadata": {},
   "source": [
    "# An introduction to Numerical Cartography"
   ]
  },
  {
   "cell_type": "markdown",
   "metadata": {},
   "source": [
    "* [Spatial and Coordinate Reference System](Spatial and Coordinate Reference System.ipynb)\n",
    "* [Working with coordinates](Working with coordinates.ipynb)\n",
    "* [The Geodesic Problem](The Geodesic Problem.ipynb)\n",
    "* [Map Projections](Map Projections.ipynb)\n",
    "* [Geometric transformation](geometric-transformation.ipynb)"
   ]
  },
  {
   "cell_type": "markdown",
   "metadata": {},
   "source": [
    "### References\n",
    "\n",
    "* [pyproj](https://jswhit.github.io/pyproj/)\n",
    "* [Map Projections-A Working Manual](http://pubs.er.usgs.gov/publication/pp1395)\n",
    "* [geographiclib](http://geographiclib.sourceforge.net/)"
   ]
  }
 ],
 "metadata": {
  "kernelspec": {
   "display_name": "Python 2",
   "language": "python",
   "name": "python2"
  },
  "language_info": {
   "codemirror_mode": {
    "name": "ipython",
    "version": 2.0
   },
   "file_extension": ".py",
   "mimetype": "text/x-python",
   "name": "python",
   "nbconvert_exporter": "python",
   "pygments_lexer": "ipython2",
   "version": "2.7.6"
  }
 },
 "nbformat": 4,
 "nbformat_minor": 0
}