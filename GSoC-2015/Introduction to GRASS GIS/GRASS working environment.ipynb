{
 "cells": [
  {
   "cell_type": "markdown",
   "metadata": {},
   "source": [
    "<h1><center>[Notebooks](../) - [Introduction to GRASS GIS](../Introduction to GRASS GIS) - [GRASS working environment](../Introduction to GRASS GIS/GRASS working environment.ipynb)</center></h1>"
   ]
  },
  {
   "cell_type": "markdown",
   "metadata": {},
   "source": [
    "On the  OSGeoLive, the  Jupyter notebook is started by a bash script which has instructions to export the GRASS environment variables. In this way the GRASS functionalities are accessible from within the notebooks using the system command magic which consists in adding an exclamation mark as prefix to a bash command, e.g.: ```!bash-command``` "
   ]
  },
  {
   "cell_type": "markdown",
   "metadata": {},
   "source": [
    "## Import GRASS script python library:"
   ]
  },
  {
   "cell_type": "code",
   "execution_count": null,
   "metadata": {},
   "outputs": [],
   "source": [
    "import grass.script as grass"
   ]
  },
  {
   "cell_type": "markdown",
   "metadata": {},
   "source": [
    "## Direct access to GRASS commands using shell syntax:"
   ]
  },
  {
   "cell_type": "markdown",
   "metadata": {},
   "source": [
    "## [g.gisenv](http://localhost/grass/g.gisenv.html)\n",
    "\n",
    "When a user runs GRASS, certain variables are set specifying the GRASS database, location, mapset, peripheral device drivers, etc., being used in the current GRASS session. These variable name settings are recognized as long as the user is running a GRASS session. "
   ]
  },
  {
   "cell_type": "code",
   "execution_count": null,
   "metadata": {},
   "outputs": [],
   "source": [
    "!g.gisenv"
   ]
  },
  {
   "cell_type": "markdown",
   "metadata": {},
   "source": [
    "## [g.mapset](http://localhost/grass/g.mapset.html)\n",
    "\n",
    "**g.mapset** is used to create new or change the current mapset."
   ]
  },
  {
   "cell_type": "markdown",
   "metadata": {},
   "source": [
    "Generate a new GRASS LOCATION Specifying the projection parameters using the proj-4 string syntax using [g.proj](http://localhost/grass/g.proj.html).  The informations used as input to ```g.proj``` are retrieved from the gdalinfo output.\n"
   ]
  },
  {
   "cell_type": "code",
   "execution_count": null,
   "metadata": {},
   "outputs": [],
   "source": [
    "!gdalinfo /usr/local/share/data/north_carolina/rast_geotiff/basin_50K.tif"
   ]
  },
  {
   "cell_type": "code",
   "execution_count": null,
   "metadata": {},
   "outputs": [],
   "source": [
    "proj4 = '+proj=lcc +lat_1=36.1667 +lat_2=34.333 +lat_0=33.75 +lon_0=-79 +x_0=609601.22 +y_0=0 +no_defs +a=6378137 +rf=298.2572221010042 +to_meter=1'\n",
    "#this will return an error if the location alreay exist (just ignore it) <-- fix me\n",
    "try:\n",
    "    grass.run_command('g.proj', proj4=proj4, location='nc')\n",
    "except:\n",
    "    print 'grass location nc already exist'"
   ]
  },
  {
   "cell_type": "code",
   "execution_count": null,
   "metadata": {},
   "outputs": [],
   "source": [
    "!g.mapset location=nc mapset=PERMANENT"
   ]
  },
  {
   "cell_type": "code",
   "execution_count": null,
   "metadata": {},
   "outputs": [],
   "source": [
    "!g.proj -p"
   ]
  }
 ],
 "metadata": {
  "kernelspec": {
   "display_name": "Python 2",
   "language": "python",
   "name": "python2"
  },
  "language_info": {
   "codemirror_mode": {
    "name": "ipython",
    "version": 2.0
   },
   "file_extension": ".py",
   "mimetype": "text/x-python",
   "name": "python",
   "nbconvert_exporter": "python",
   "pygments_lexer": "ipython2",
   "version": "2.7.6"
  }
 },
 "nbformat": 4,
 "nbformat_minor": 0
}