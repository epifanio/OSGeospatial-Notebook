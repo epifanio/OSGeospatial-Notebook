{
 "cells": [
  {
   "cell_type": "markdown",
   "metadata": {},
   "source": [
    "<h1><center>[Notebooks](../) - [Introduction to GRASS GIS](../Introduction to GRASS GIS) - [Introduction ](../Introduction to GRASS GIS/Introduction to GRASS GIS.ipynb)</center></h1>"
   ]
  },
  {
   "cell_type": "markdown",
   "metadata": {},
   "source": [
    "# Introduction to GRASS GIS\n",
    "\n",
    "* [GRASS working environment](GRASS working environment.ipynb)\n",
    "* [Map display](Map display.ipynb)\n",
    "\n",
    "\n",
    "# [python-grass-addons](python-grass-addons/00 Introduction.ipynb)"
   ]
  }
 ],
 "metadata": {
  "kernelspec": {
   "display_name": "Python 2",
   "language": "python",
   "name": "python2"
  },
  "language_info": {
   "codemirror_mode": {
    "name": "ipython",
    "version": 2.0
   },
   "file_extension": ".py",
   "mimetype": "text/x-python",
   "name": "python",
   "nbconvert_exporter": "python",
   "pygments_lexer": "ipython2",
   "version": "2.7.6"
  }
 },
 "nbformat": 4,
 "nbformat_minor": 0
}