{
 "cells": [
  {
   "cell_type": "markdown",
   "metadata": {},
   "source": [
    "<h1><center>[Notebooks](../) - [Introduction to GRASS GIS](../Introduction to GRASS GIS) - [Map display](../Introduction to GRASS GIS/Map display.ipynb)</center></h1>"
   ]
  },
  {
   "cell_type": "code",
   "execution_count": null,
   "metadata": {},
   "outputs": [],
   "source": [
    "%run grassutil.ipy"
   ]
  },
  {
   "cell_type": "code",
   "execution_count": null,
   "metadata": {},
   "outputs": [],
   "source": [
    "DATADIR='/home/user/data/north_carolina/rast_geotiff/'"
   ]
  },
  {
   "cell_type": "code",
   "execution_count": null,
   "metadata": {},
   "outputs": [],
   "source": [
    "!g.mapset location=nc mapset=PERMANENT"
   ]
  },
  {
   "cell_type": "code",
   "execution_count": null,
   "metadata": {},
   "outputs": [],
   "source": [
    "!g.proj -p"
   ]
  },
  {
   "cell_type": "code",
   "execution_count": null,
   "metadata": {},
   "outputs": [],
   "source": [
    "!r.in.gdal input={DATADIR}/elevation.tif output=elevation -e --o"
   ]
  },
  {
   "cell_type": "code",
   "execution_count": null,
   "metadata": {},
   "outputs": [],
   "source": [
    "makeImage(basemap='elevation', inputlayer='elevation', maptype='raster', \n",
    "          vsize=10, maptitle='elevation', region=region2dict(rast='elevation'), legend=False, outputimagename='test.png')"
   ]
  },
  {
   "cell_type": "code",
   "execution_count": null,
   "metadata": {},
   "outputs": [],
   "source": [
    "!r.in.gdal input={DATADIR}/basin_50K.tif output=basin_50K -e --o"
   ]
  },
  {
   "cell_type": "code",
   "execution_count": null,
   "metadata": {},
   "outputs": [],
   "source": [
    "makeImage(basemap='basin_50K', inputlayer='basin_50K', maptype='raster', \n",
    "          vsize=10, maptitle='Basins', region=region2dict(rast='basin_50K'), legend=False, outputimagename='test.png')"
   ]
  },
  {
   "cell_type": "code",
   "execution_count": null,
   "metadata": {},
   "outputs": [],
   "source": [
    "!r.blend first=elevation second=basin_50K output=basin_relief percent=30 --overwrite --quiet"
   ]
  },
  {
   "cell_type": "code",
   "execution_count": null,
   "metadata": {},
   "outputs": [],
   "source": [
    "makeImage(basemap='basin_50K', inputlayer='basin_relief', maptype='rgb', \n",
    "          vsize=10, maptitle='Basins', region=region2dict(rast='basin_50K'), legend=False, outputimagename='test.png')"
   ]
  },
  {
   "cell_type": "code",
   "execution_count": null,
   "metadata": {},
   "outputs": [],
   "source": [
    "!m.nviz.image elevation_map=elevation output=elevation position=0.5,0.5 \\\n",
    "              perspective=100 height=800 color_map=basin_50K \\\n",
    "              resolution_fine=1 resolution_coarse=1 format=tif --q"
   ]
  },
  {
   "cell_type": "code",
   "execution_count": null,
   "metadata": {},
   "outputs": [],
   "source": [
    "!convert elevation.tif elevation.png\n",
    "Image(\"elevation.png\")"
   ]
  },
  {
   "cell_type": "code",
   "execution_count": null,
   "metadata": {},
   "outputs": [],
   "source": [
    ""
   ]
  }
 ],
 "metadata": {
  "kernelspec": {
   "display_name": "Python 2",
   "language": "python",
   "name": "python2"
  },
  "language_info": {
   "codemirror_mode": {
    "name": "ipython",
    "version": 2.0
   },
   "file_extension": ".py",
   "mimetype": "text/x-python",
   "name": "python",
   "nbconvert_exporter": "python",
   "pygments_lexer": "ipython2",
   "version": "2.7.6"
  }
 },
 "nbformat": 4,
 "nbformat_minor": 0
}