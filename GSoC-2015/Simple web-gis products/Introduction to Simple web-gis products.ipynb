{
 "cells": [
  {
   "cell_type": "markdown",
   "metadata": {},
   "source": [
    "<h1><center>[Notebooks](../) - [Simple web-gis products](../Simple web-gis products) - [Introduction ](../Simple web-gis products/Introduction to Simple web-gis products.ipynb)</center></h1>"
   ]
  },
  {
   "cell_type": "markdown",
   "metadata": {},
   "source": [
    "The intent of this set of notebooks is to provide some examoples on how to build simple ```HTML``` and ```JavaScrpt``` web based tools, using templates based on *cesiumJS*, *Openlayers*, *Leaflets*.\n",
    "\n",
    "The ability of the notebook to work on very diverse and heterogeneous data and information sources, provides an effective way to document the processes involved in generating a data product as well as a way to share the source code used to generate those products and associated metadata. Those features enable the ability to track the workflow provenance to allow the reproducibility of a data product."
   ]
  },
  {
   "cell_type": "markdown",
   "metadata": {
    "collapsed": true
   },
   "source": [
    "**[CESIUM](CESIUM/cesium-introduction.ipynb)**\n",
    "\n",
    "\n"
   ]
  }
 ],
 "metadata": {
  "kernelspec": {
   "display_name": "Python 2",
   "language": "python",
   "name": "python2"
  },
  "language_info": {
   "codemirror_mode": {
    "name": "ipython",
    "version": 2
   },
   "file_extension": ".py",
   "mimetype": "text/x-python",
   "name": "python",
   "nbconvert_exporter": "python",
   "pygments_lexer": "ipython2",
   "version": "2.7.6"
  }
 },
 "nbformat": 4,
 "nbformat_minor": 0
}
