{
 "cells": [
  {
   "cell_type": "markdown",
   "metadata": {},
   "source": [
    "<h1><center>[Notebooks](../../) - [Simple web-gis products](../) - [CESIUM](../CESIUM/)- [Introduction](../CESIUM/cesium-introduction.ipynb)</center></h1>"
   ]
  },
  {
   "cell_type": "markdown",
   "metadata": {},
   "source": [
    "\n",
    "## CesiumWidget\n",
    "\n",
    "CesiumWidget is an IPython/Jupyter notebook widget based on [Cesiumjs](http://cesiumjs.org/), a javascript\n",
    "world globe widget.\n",
    "\n",
    "For license on Cesiumjs see http://cesiumjs.org/index.html\n",
    "\n",
    "CesiumWidget part of code is under Apache license\n",
    "\n",
    "\n",
    "\n",
    "## Features\n",
    "\n",
    "The widget is in development and has currently basic features such as load CZML, KML, GeoJson and camera functionalities like go-to, zoom-to, zoom-ti-region.\n",
    "\n",
    "The vision is to have a widget for representing orbits,\n",
    "geo-related informations in an efficient way directly in the browser. By using the full\n",
    "screen button, the widget can be expanded to provide a larger view.\n",
    "\n",
    "Roadmap still to be written but visioned features are:\n",
    "* Time readout and control of widget from python\n",
    "* Better interface with czml\n",
    "* Pyplot-like interface to quickly plot stuff\n",
    "\n",
    "\n",
    "## Examples\n",
    "\n",
    "* [CesiumWidget Example](CesiumWidget Example.ipynb)\n",
    "* [CesiumWidget Example KML](CesiumWidget Example KML.ipynb)\n",
    "* [CesiumWidget Example with CZML library](CesiumWidget Example with CZML library.ipynb)\n",
    "* [CesiumWidget Interact-Example](CesiumWidget Interact-Example.ipynb)\n",
    "\n"
   ]
  }
 ],
 "metadata": {
  "kernelspec": {
   "display_name": "Python 2",
   "language": "python",
   "name": "python2"
  },
  "language_info": {
   "codemirror_mode": {
    "name": "ipython",
    "version": 2
   },
   "file_extension": ".py",
   "mimetype": "text/x-python",
   "name": "python",
   "nbconvert_exporter": "python",
   "pygments_lexer": "ipython2",
   "version": "2.7.6"
  }
 },
 "nbformat": 4,
 "nbformat_minor": 0
}
